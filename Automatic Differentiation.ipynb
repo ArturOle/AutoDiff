{
 "cells": [
  {
   "cell_type": "markdown",
   "source": [
    "This is done as a learnig process with the MIT's Prof. Alan Edelman's workshop published on \"The Julia Programming\" Youtube channel."
   ],
   "metadata": {}
  },
  {
   "cell_type": "markdown",
   "source": [
    "### Double number structure "
   ],
   "metadata": {}
  },
  {
   "cell_type": "code",
   "execution_count": null,
   "source": [
    "# Function-derivative pair\r\n",
    "struct DoubleNumber <: Number\r\n",
    "    f::Tuple{Float64, Float64}\r\n",
    "end"
   ],
   "outputs": [],
   "metadata": {}
  },
  {
   "cell_type": "markdown",
   "source": [
    "### Rules\n",
    "\n",
    "Summing Rule:  x' + y' = (x + y)'\n",
    "Subtraction Rule: \n",
    "Division Rule: x'/y' = (x\\*y' - x'\\*y) / y^2\n",
    "Multiplication Rule:\n"
   ],
   "metadata": {}
  },
  {
   "cell_type": "code",
   "execution_count": null,
   "source": [
    "# Rules\r\n",
    "import Base: +, /, -, *, convert, promote_rule\r\n",
    "+(x::DoubleNumber, y::DoubleNumber) = DoubleNumber(x.f .+ y.f)\r\n",
    "-(x::DoubleNumber, y::DoubleNumber) = DoubleNumber(x.f .- y.f)\r\n",
    "/(x::DoubleNumber, y::DoubleNumber) = DoubleNumber((x.f[1] / y.f[1], (y.f[1]*x.f[2] - x.f[1]*y.f[2])/(y.f[1]^2)))\r\n",
    "*(x::DoubleNumber, y::DoubleNumber) = DoubleNumber((x.f[1] * y.f[1], x.f[2]*y.f[1] + x.f[1]*y.f[2]))\r\n",
    "convert(::Type{DoubleNumber}, x::Real) = DoubleNumber((x, zero(x)))\r\n",
    "promote_rule(::Type{DoubleNumber}, ::Type{<:Number}) = DoubleNumber"
   ],
   "outputs": [],
   "metadata": {}
  },
  {
   "cell_type": "markdown",
   "source": [
    "### Babylonian Square Root\n",
    "\n",
    "Iterative algorithm for calculation of the square root of x."
   ],
   "metadata": {}
  },
  {
   "cell_type": "code",
   "execution_count": null,
   "source": [
    "function BSR(x, Iterations=10)\r\n",
    "    value = (x + 1)/2\r\n",
    "    \r\n",
    "    for i = 2:Iterations\r\n",
    "        value = (value + x/value)/2\r\n",
    "    end\r\n",
    "\r\n",
    "    return value\r\n",
    "end\r\n",
    "\r\n",
    "BSR(2), sqrt(2)"
   ],
   "outputs": [],
   "metadata": {}
  },
  {
   "cell_type": "markdown",
   "source": [
    "### Plots"
   ],
   "metadata": {}
  },
  {
   "cell_type": "code",
   "execution_count": null,
   "source": [
    "using Plots\r\n",
    "plotly()"
   ],
   "outputs": [],
   "metadata": {}
  },
  {
   "cell_type": "markdown",
   "source": [
    "### Iterations\n",
    "\n",
    "We can easly check how well algorithm performs with rising of the number of iterations.\n",
    "With fifth iteration we obtain the sqrt(x) level of precision."
   ],
   "metadata": {}
  },
  {
   "cell_type": "code",
   "execution_count": null,
   "source": [
    "i = 0:0.1:50\r\n",
    "\r\n",
    "plot([x->BSR(x, i) for i = 1:5], i)\r\n",
    "plot!(sqrt, i)\r\n"
   ],
   "outputs": [],
   "metadata": {}
  },
  {
   "cell_type": "markdown",
   "source": [
    "### Derivative\n",
    "\n",
    "Now using the DoubleNumber we can easly calculate the derivative of our function."
   ],
   "metadata": {}
  },
  {
   "cell_type": "code",
   "execution_count": null,
   "source": [
    "x = 49\r\n",
    "ϵ = 0.0001\r\n",
    "\r\n",
    "# First degree\r\n",
    "first₁ = BSR( DoubleNumber((x, 1)) ) - BSR( DoubleNumber((25, 1)) )\r\n",
    "\r\n",
    "# using forward differentiation\r\n",
    "function derivative(func, x); return (func(x + ϵ) - func(x)) / ϵ; end\r\n",
    "derivative(func, x, e) = (func(x + e) - func(x)) / e\r\n",
    "\r\n",
    "\r\n",
    "derivative(BSR, x, ϵ)\r\n"
   ],
   "outputs": [],
   "metadata": {}
  }
 ],
 "metadata": {
  "kernelspec": {
   "display_name": "Julia 1.6.1",
   "language": "julia",
   "name": "julia-1.6"
  },
  "language_info": {
   "name": "julia",
   "version": "1.6.1",
   "mimetype": "application/julia",
   "file_extension": ".jl"
  }
 },
 "nbformat": 4,
 "nbformat_minor": 4
}