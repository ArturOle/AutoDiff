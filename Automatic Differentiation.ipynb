{
 "cells": [
  {
   "cell_type": "markdown",
   "source": [
    "This is done as a learnig process with the MIT's Prof. Alan Edelman's workshop published on \"The Julia Programming\" Youtube channel."
   ],
   "metadata": {}
  },
  {
   "cell_type": "markdown",
   "source": [
    "### Double number structure "
   ],
   "metadata": {}
  },
  {
   "cell_type": "code",
   "execution_count": 8,
   "source": [
    "# Function-derivative pair\r\n",
    "struct DoubleNumber <: Number\r\n",
    "    f::Tuple{Float64, Float64}\r\n",
    "end"
   ],
   "outputs": [],
   "metadata": {}
  },
  {
   "cell_type": "markdown",
   "source": [
    "### Rules\n",
    "\n",
    "Summing Rule:  x' + y' = (x + y)'\n",
    "Subtraction Rule: \n",
    "Division Rule: x'/y' = (x\\*y' - x'\\*y) / y^2\n",
    "Multiplication Rule:\n"
   ],
   "metadata": {}
  },
  {
   "cell_type": "code",
   "execution_count": 9,
   "source": [
    "# Rules\r\n",
    "import Base: +, /, -, *, convert, promote_rule\r\n",
    "+(x::DoubleNumber, y::DoubleNumber) = DoubleNumber(x.f .+ y.f)\r\n",
    "-(x::DoubleNumber, y::DoubleNumber) = DoubleNumber(x.f .- y.f)\r\n",
    "/(x::DoubleNumber, y::DoubleNumber) = DoubleNumber((x.f[1] / y.f[1], (y.f[1]*x.f[2] - x.f[1]*y.f[2])/(y.f[1]^2)))\r\n",
    "*(x::DoubleNumber, y::DoubleNumber) = DoubleNumber((x.f[1] * y.f[1], x.f[2]*y.f[1] + x.f[1]*y.f[2]))\r\n",
    "convert(::Type{DoubleNumber}, x::Real) = DoubleNumber((x, zero(x)))\r\n",
    "promote_rule(::Type{DoubleNumber}, ::Type{<:Number}) = DoubleNumber"
   ],
   "outputs": [
    {
     "output_type": "display_data",
     "data": {
      "text/plain": [
       "promote_rule (generic function with 125 methods)"
      ]
     },
     "metadata": {}
    }
   ],
   "metadata": {}
  },
  {
   "cell_type": "markdown",
   "source": [
    "### Babylonian Square Root\n",
    "\n",
    "Iterative algorithm for calculation of the square root of x."
   ],
   "metadata": {}
  },
  {
   "cell_type": "code",
   "execution_count": 10,
   "source": [
    "function BSR(x, Iterations=10)\r\n",
    "    value = (x + 1)/2\r\n",
    "    \r\n",
    "    for i = 2:Iterations\r\n",
    "        value = (value + x/value)/2\r\n",
    "    end\r\n",
    "\r\n",
    "    return value\r\n",
    "end\r\n",
    "\r\n",
    "BSR(2), sqrt(2)"
   ],
   "outputs": [
    {
     "output_type": "display_data",
     "data": {
      "text/plain": [
       "(1.414213562373095, 1.4142135623730951)"
      ]
     },
     "metadata": {}
    }
   ],
   "metadata": {}
  },
  {
   "cell_type": "markdown",
   "source": [
    "### Plots"
   ],
   "metadata": {}
  },
  {
   "cell_type": "code",
   "execution_count": 4,
   "source": [
    "using Plots\r\n",
    "plotly()"
   ],
   "outputs": [
    {
     "output_type": "stream",
     "name": "stdout",
     "text": [
      "┌ Info: For saving to png with the Plotly backend PlotlyBase has to be installed.\n",
      "└ @ Plots C:\\Users\\Art\\.julia\\packages\\Plots\\yfzIY\\src\\backends.jl:436\n"
     ]
    },
    {
     "output_type": "display_data",
     "data": {
      "text/plain": [
       "Plots.PlotlyBackend()"
      ]
     },
     "metadata": {}
    }
   ],
   "metadata": {}
  },
  {
   "cell_type": "markdown",
   "source": [
    "### Iterations\n",
    "\n",
    "We can easly check how well algorithm performs with rising of the number of iterations.\n",
    "With fifth iteration we obtain the sqrt(x) level of precision."
   ],
   "metadata": {}
  },
  {
   "cell_type": "code",
   "execution_count": 9,
   "source": [
    "i = 0:0.1:50\r\n",
    "\r\n",
    "plot([x->BSR(x, i) for i = 1:5], i)\r\n",
    "plot!(sqrt, i)\r\n"
   ],
   "outputs": [],
   "metadata": {}
  },
  {
   "cell_type": "markdown",
   "source": [
    "### Derivative\n",
    "\n",
    "Now using the DoubleNumber we can easly calculate the derivative of our function."
   ],
   "metadata": {}
  },
  {
   "cell_type": "code",
   "execution_count": 27,
   "source": [
    "x=49\r\n",
    "ϵ = 0.000000001\r\n"
   ],
   "outputs": [
    {
     "output_type": "display_data",
     "data": {
      "text/plain": [
       "1.0e-9"
      ]
     },
     "metadata": {}
    }
   ],
   "metadata": {}
  },
  {
   "cell_type": "code",
   "execution_count": 16,
   "source": [
    "x = 49\r\n",
    "ϵ = 0.0001\r\n",
    "\r\n",
    "# First degree\r\n",
    "first₁ = BSR( DoubleNumber((x, 1)) ) - BSR( DoubleNumber((25, 1)) )\r\n",
    "println(sqrt(35))\r\n",
    "# first₂ = sqrt(DoubleNumber((x,1)))\r\n",
    "\r\n",
    "# # using forward differentiation\r\n",
    "function derivative(func, x); return (func(x + ϵ) - func(x)) / ϵ; end\r\n",
    "derivative(func, x, e) = (func(x + e) - func(x)) / e\r\n",
    "\r\n",
    "# println(\"First derivative: \", first₁, \"  \", derivative(BSR, x) , \" Difference: \", first₁.f[2] - derivative(BSR, x)  )\r\n",
    "\r\n",
    "#println( first₁)\r\n",
    "derivative(sqrt, x, ϵ)\r\n",
    "@code_native derivative(sqrt, x ,ϵ)"
   ],
   "outputs": [
    {
     "output_type": "error",
     "ename": "LoadError",
     "evalue": "LoadError: UndefVarError: @code_native not defined\nin expression starting at d:\\Repos\\ML_Projects\\Julia\\examples\\AutoDiff\\Automatic Differentiation.ipynb:17",
     "traceback": [
      "\n",
      "Stacktrace:\n",
      "  [1] top-level scope\n",
      "    @ :0\n",
      "  [2] eval\n",
      "    @ .\\boot.jl:360 [inlined]\n",
      "  [3] include_string(mapexpr::typeof(REPL.softscope), mod::Module, code::String, filename::String)\n",
      "    @ Base .\\loading.jl:1094\n",
      "  [4] #invokelatest#2\n",
      "    @ .\\essentials.jl:708 [inlined]\n",
      "  [5] invokelatest\n",
      "    @ .\\essentials.jl:706 [inlined]\n",
      "  [6] (::VSCodeServer.var\"#98#99\"{VSCodeServer.NotebookRunCellArguments, String})()\n",
      "    @ VSCodeServer c:\\Users\\Art\\.vscode\\extensions\\julialang.language-julia-1.4.3\\scripts\\packages\\VSCodeServer\\src\\serve_notebook.jl:18\n",
      "  [7] withpath(f::VSCodeServer.var\"#98#99\"{VSCodeServer.NotebookRunCellArguments, String}, path::String)\n",
      "    @ VSCodeServer c:\\Users\\Art\\.vscode\\extensions\\julialang.language-julia-1.4.3\\scripts\\packages\\VSCodeServer\\src\\repl.jl:185\n",
      "  [8] notebook_runcell_request(conn::VSCodeServer.JSONRPC.JSONRPCEndpoint{Base.PipeEndpoint, Base.PipeEndpoint}, params::VSCodeServer.NotebookRunCellArguments)\n",
      "    @ VSCodeServer c:\\Users\\Art\\.vscode\\extensions\\julialang.language-julia-1.4.3\\scripts\\packages\\VSCodeServer\\src\\serve_notebook.jl:14\n",
      "  [9] dispatch_msg(x::VSCodeServer.JSONRPC.JSONRPCEndpoint{Base.PipeEndpoint, Base.PipeEndpoint}, dispatcher::VSCodeServer.JSONRPC.MsgDispatcher, msg::Dict{String, Any})\n",
      "    @ VSCodeServer.JSONRPC c:\\Users\\Art\\.vscode\\extensions\\julialang.language-julia-1.4.3\\scripts\\packages\\JSONRPC\\src\\typed.jl:67\n",
      " [10] serve_notebook(pipename::String; crashreporting_pipename::String)\n",
      "    @ VSCodeServer c:\\Users\\Art\\.vscode\\extensions\\julialang.language-julia-1.4.3\\scripts\\packages\\VSCodeServer\\src\\serve_notebook.jl:94\n",
      " [11] top-level scope\n",
      "    @ c:\\Users\\Art\\.vscode\\extensions\\julialang.language-julia-1.4.3\\scripts\\notebook\\notebook.jl:10\n",
      " [12] include(mod::Module, _path::String)\n",
      "    @ Base .\\Base.jl:386\n",
      " [13] exec_options(opts::Base.JLOptions)\n",
      "    @ Base .\\client.jl:285\n",
      " [14] _start()\n",
      "    @ Base .\\client.jl:485"
     ]
    }
   ],
   "metadata": {}
  },
  {
   "cell_type": "code",
   "execution_count": 14,
   "source": [
    "@code_typed derivative(sqrt, x ,ϵ)"
   ],
   "outputs": [
    {
     "output_type": "error",
     "ename": "LoadError",
     "evalue": "LoadError: UndefVarError: @code_typed not defined\nin expression starting at d:\\Repos\\ML_Projects\\Julia\\examples\\AutoDiff\\Automatic Differentiation.ipynb:1",
     "traceback": [
      "\n",
      "Stacktrace:\n",
      "  [1] top-level scope\n",
      "    @ :0\n",
      "  [2] eval\n",
      "    @ .\\boot.jl:360 [inlined]\n",
      "  [3] include_string(mapexpr::typeof(REPL.softscope), mod::Module, code::String, filename::String)\n",
      "    @ Base .\\loading.jl:1094\n",
      "  [4] #invokelatest#2\n",
      "    @ .\\essentials.jl:708 [inlined]\n",
      "  [5] invokelatest\n",
      "    @ .\\essentials.jl:706 [inlined]\n",
      "  [6] (::VSCodeServer.var\"#98#99\"{VSCodeServer.NotebookRunCellArguments, String})()\n",
      "    @ VSCodeServer c:\\Users\\Art\\.vscode\\extensions\\julialang.language-julia-1.4.3\\scripts\\packages\\VSCodeServer\\src\\serve_notebook.jl:18\n",
      "  [7] withpath(f::VSCodeServer.var\"#98#99\"{VSCodeServer.NotebookRunCellArguments, String}, path::String)\n",
      "    @ VSCodeServer c:\\Users\\Art\\.vscode\\extensions\\julialang.language-julia-1.4.3\\scripts\\packages\\VSCodeServer\\src\\repl.jl:185\n",
      "  [8] notebook_runcell_request(conn::VSCodeServer.JSONRPC.JSONRPCEndpoint{Base.PipeEndpoint, Base.PipeEndpoint}, params::VSCodeServer.NotebookRunCellArguments)\n",
      "    @ VSCodeServer c:\\Users\\Art\\.vscode\\extensions\\julialang.language-julia-1.4.3\\scripts\\packages\\VSCodeServer\\src\\serve_notebook.jl:14\n",
      "  [9] dispatch_msg(x::VSCodeServer.JSONRPC.JSONRPCEndpoint{Base.PipeEndpoint, Base.PipeEndpoint}, dispatcher::VSCodeServer.JSONRPC.MsgDispatcher, msg::Dict{String, Any})\n",
      "    @ VSCodeServer.JSONRPC c:\\Users\\Art\\.vscode\\extensions\\julialang.language-julia-1.4.3\\scripts\\packages\\JSONRPC\\src\\typed.jl:67\n",
      " [10] serve_notebook(pipename::String; crashreporting_pipename::String)\n",
      "    @ VSCodeServer c:\\Users\\Art\\.vscode\\extensions\\julialang.language-julia-1.4.3\\scripts\\packages\\VSCodeServer\\src\\serve_notebook.jl:94\n",
      " [11] top-level scope\n",
      "    @ c:\\Users\\Art\\.vscode\\extensions\\julialang.language-julia-1.4.3\\scripts\\notebook\\notebook.jl:10\n",
      " [12] include(mod::Module, _path::String)\n",
      "    @ Base .\\Base.jl:386\n",
      " [13] exec_options(opts::Base.JLOptions)\n",
      "    @ Base .\\client.jl:285\n",
      " [14] _start()\n",
      "    @ Base .\\client.jl:485"
     ]
    }
   ],
   "metadata": {}
  }
 ],
 "metadata": {
  "kernelspec": {
   "display_name": "Julia 1.6.1",
   "language": "julia",
   "name": "julia-1.6"
  },
  "language_info": {
   "name": "julia",
   "version": "1.6.1",
   "mimetype": "application/julia",
   "file_extension": ".jl"
  }
 },
 "nbformat": 4,
 "nbformat_minor": 4
}