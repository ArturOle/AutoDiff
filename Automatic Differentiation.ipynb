{
 "cells": [
  {
   "cell_type": "markdown",
   "metadata": {},
   "source": [
    "This is done as a learnig process with the MIT's Prof. Alan Edelman's workshop published on \"The Julia Programming\" Youtube channel."
   ]
  },
  {
   "cell_type": "markdown",
   "metadata": {},
   "source": [
    "### Double number structure "
   ]
  },
  {
   "cell_type": "code",
   "execution_count": 1,
   "metadata": {},
   "outputs": [],
   "source": [
    "# Function-derivative pair\n",
    "struct DualNumber <: Number\n",
    "    f::Tuple{Float64, Float64}\n",
    "end"
   ]
  },
  {
   "cell_type": "markdown",
   "metadata": {},
   "source": [
    "### Rules\n",
    "\n",
    "Summing Rule:  x' + y' = (x + y)'\n",
    "Subtraction Rule: \n",
    "Division Rule: x'/y' = (x\\*y' - x'\\*y) / y^2\n",
    "Multiplication Rule:\n"
   ]
  },
  {
   "cell_type": "code",
   "execution_count": 70,
   "metadata": {},
   "outputs": [
    {
     "data": {
      "text/plain": [
       "promote_rule (generic function with 125 methods)"
      ]
     },
     "metadata": {},
     "output_type": "display_data"
    }
   ],
   "source": [
    "# Rules\n",
    "import Base: +, /, -, *, sqrt, exp, log, sin, cos, convert, promote_rule\n",
    "\n",
    "# Base rules\n",
    "+(x::DualNumber, y::DualNumber) = DualNumber(x.f .+ y.f)\n",
    "-(x::DualNumber, y::DualNumber) = DualNumber(x.f .- y.f)\n",
    "/(x::DualNumber, y::DualNumber) = DualNumber((x.f[1] / y.f[1], (y.f[1]*x.f[2] - x.f[1]*y.f[2])/(y.f[1]^2)))\n",
    "*(x::DualNumber, y::DualNumber) = DualNumber((x.f[1] * y.f[1], x.f[2]*y.f[1] + x.f[1]*y.f[2]))\n",
    "\n",
    "# Functions\n",
    "sin(x::DualNumber) = DualNumber((sin(x.f[1]), x.f[2]*cos(x.f[1])))\n",
    "cos(x::DualNumber) = DualNumber((cos(x.f[1]), -x.f[2]*sin(x.f[1])))\n",
    "exp(x::DualNumber) = DualNumber((exp(x.f[1]), x.f[2]*exp(x.f[1])))\n",
    "log(x::DualNumber) = DualNumber((log(x.f[1]), x.f[2]/x.f[1]))\n",
    "sqrt(x::DualNumber) = DualNumber((sqrt(x.f[1]), 1/(2*sqrt(x.f[1]))))\n",
    "\n",
    "# Implement\n",
    "convert(::Type{DualNumber}, x::Real) = DualNumber((x, zero(x)))\n",
    "promote_rule(::Type{DualNumber}, ::Type{<:Number}) = DualNumber"
   ]
  },
  {
   "cell_type": "markdown",
   "metadata": {},
   "source": [
    "### Derivative\n",
    "\n",
    "Now using the DoubleNumber we can easly calculate the derivative of our function."
   ]
  },
  {
   "cell_type": "code",
   "execution_count": 88,
   "metadata": {},
   "outputs": [
    {
     "data": {
      "text/plain": [
       "derivative (generic function with 1 method)"
      ]
     },
     "metadata": {},
     "output_type": "display_data"
    }
   ],
   "source": [
    "\n",
    "global dn = DualNumber((49, 1))\n",
    "first(x) = sqrt(x)*log(x)\n",
    "derivative(func::Function, x::Number, e::Float64) = (func(x + e) - func(x)) / e\n"
   ]
  },
  {
   "cell_type": "code",
   "execution_count": 95,
   "metadata": {},
   "outputs": [
    {
     "name": "stdout",
     "output_type": "stream",
     "text": [
      "  0.000001 seconds\n",
      "  0.000000 seconds\n",
      "derivative fast forward: 0.4208442931030731\n",
      "dual number no derivative and derivative: DualNumber((27.242742086774385, 0.4208443070079019))\n",
      "1.3904828788380286e-8"
     ]
    },
    {
     "name": "stdout",
     "output_type": "stream",
     "text": [
      "\n",
      "0.0\n"
     ]
    }
   ],
   "source": [
    "@time(derivative(first, 49, 0.0000001))\n",
    "@time(first(DualNumber((49, 1))))\n",
    "\n",
    "println(\"derivative fast forward: \", derivative(first, 49, 0.00001))\n",
    "println(\"dual number no derivative and derivative: \", first(DualNumber((49, 1))))\n",
    "\n",
    "println(abs(0.4208443070079019007293361062061685328052978185116944554941985928-derivative(first, 49, 0.00001)))\n",
    "println(abs(0.4208443070079019007293361062061685328052978185116944554941985928-first(DualNumber((49, 1))).f[2]))"
   ]
  }
 ],
 "metadata": {
  "kernelspec": {
   "display_name": "Julia 1.6.1",
   "language": "julia",
   "name": "julia-1.6"
  },
  "language_info": {
   "file_extension": ".jl",
   "mimetype": "application/julia",
   "name": "julia",
   "version": "1.6.1"
  }
 },
 "nbformat": 4,
 "nbformat_minor": 4
}
